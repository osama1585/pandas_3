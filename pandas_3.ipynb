{
 "cells": [
  {
   "cell_type": "markdown",
   "id": "b8e1389f-d91d-4ba7-8635-884ba411ed7a",
   "metadata": {},
   "source": [
    "<span style=color:red;font-size:60px>ASSIGNMENT</span>"
   ]
  },
  {
   "cell_type": "markdown",
   "id": "d4837c6f-de4d-478b-820a-78fa51a454af",
   "metadata": {},
   "source": [
    "<span style =color:blue;font-size:50px>PANDAS ADVANCE-2</span>"
   ]
  },
  {
   "cell_type": "raw",
   "id": "47a13990-c5d4-4e14-837e-a0b4171426cb",
   "metadata": {},
   "source": [
    "Consider following code to answer further questions:\n",
    "import pandas as pd\n",
    "course_name = [‘Data Science’, ‘Machine Learning’, ‘Big Data’, ‘Data Engineer’]\n",
    "duration = [2,3,6,4]\n",
    "df = pd.DataFrame(data = {‘course_name’ : course_name, ‘duration’ : duration})"
   ]
  },
  {
   "cell_type": "markdown",
   "id": "096c3c4e-9aa3-4e3f-8253-af28b6aded4c",
   "metadata": {},
   "source": [
    "<span style=color:green>Q1. Write a code to print the data present in the second row of the dataframe, df.</span>"
   ]
  },
  {
   "cell_type": "markdown",
   "id": "59c51026-78cb-48c3-b27e-ac5fcb69a33a",
   "metadata": {},
   "source": [
    "Ans-"
   ]
  },
  {
   "cell_type": "code",
   "execution_count": 1,
   "id": "64a6865c-b45d-437c-8a03-58d228a8af7f",
   "metadata": {},
   "outputs": [],
   "source": [
    "import pandas as pd\n",
    "course_name = ['Data Science', 'Machine Learning', 'Big Data', 'Data Engineer']\n",
    "duration = [2,3,6,4]\n",
    "df = pd.DataFrame(data = {'course_name' : course_name, 'duration' : duration})"
   ]
  },
  {
   "cell_type": "code",
   "execution_count": 2,
   "id": "41faa55a-2422-4ad3-8818-08eb29c8b0bb",
   "metadata": {},
   "outputs": [
    {
     "data": {
      "text/html": [
       "<div>\n",
       "<style scoped>\n",
       "    .dataframe tbody tr th:only-of-type {\n",
       "        vertical-align: middle;\n",
       "    }\n",
       "\n",
       "    .dataframe tbody tr th {\n",
       "        vertical-align: top;\n",
       "    }\n",
       "\n",
       "    .dataframe thead th {\n",
       "        text-align: right;\n",
       "    }\n",
       "</style>\n",
       "<table border=\"1\" class=\"dataframe\">\n",
       "  <thead>\n",
       "    <tr style=\"text-align: right;\">\n",
       "      <th></th>\n",
       "      <th>course_name</th>\n",
       "      <th>duration</th>\n",
       "    </tr>\n",
       "  </thead>\n",
       "  <tbody>\n",
       "    <tr>\n",
       "      <th>0</th>\n",
       "      <td>Data Science</td>\n",
       "      <td>2</td>\n",
       "    </tr>\n",
       "    <tr>\n",
       "      <th>1</th>\n",
       "      <td>Machine Learning</td>\n",
       "      <td>3</td>\n",
       "    </tr>\n",
       "    <tr>\n",
       "      <th>2</th>\n",
       "      <td>Big Data</td>\n",
       "      <td>6</td>\n",
       "    </tr>\n",
       "    <tr>\n",
       "      <th>3</th>\n",
       "      <td>Data Engineer</td>\n",
       "      <td>4</td>\n",
       "    </tr>\n",
       "  </tbody>\n",
       "</table>\n",
       "</div>"
      ],
      "text/plain": [
       "        course_name  duration\n",
       "0      Data Science         2\n",
       "1  Machine Learning         3\n",
       "2          Big Data         6\n",
       "3     Data Engineer         4"
      ]
     },
     "execution_count": 2,
     "metadata": {},
     "output_type": "execute_result"
    }
   ],
   "source": [
    "df"
   ]
  },
  {
   "cell_type": "code",
   "execution_count": 3,
   "id": "d8a7cfcf-da75-4ba7-af81-3374eb52d0e5",
   "metadata": {},
   "outputs": [],
   "source": [
    "second_raw=df.iloc[1]"
   ]
  },
  {
   "cell_type": "code",
   "execution_count": 4,
   "id": "4047b35d-d5e2-4cfa-8675-8038be4ffe8e",
   "metadata": {},
   "outputs": [
    {
     "name": "stdout",
     "output_type": "stream",
     "text": [
      "course_name    Machine Learning\n",
      "duration                      3\n",
      "Name: 1, dtype: object\n"
     ]
    }
   ],
   "source": [
    "print(second_raw)"
   ]
  },
  {
   "cell_type": "markdown",
   "id": "dee3bc71-943f-40ea-a05f-70d7ec14f5e1",
   "metadata": {},
   "source": [
    "<span style=color:green>Q2. What is the difference between the functions loc and iloc in pandas.DataFrame?</span>"
   ]
  },
  {
   "cell_type": "markdown",
   "id": "dd7ce9a2-a0b5-4262-ae07-1204f6c09a03",
   "metadata": {},
   "source": [
    "Ans-"
   ]
  },
  {
   "cell_type": "markdown",
   "id": "302b154f-d37d-4a81-9cc6-5b72e6aac9c5",
   "metadata": {},
   "source": [
    "In Pandas, both the .loc[] and .iloc[] functions are used to access and manipulate data in a DataFrame, but they have some key differences :"
   ]
  },
  {
   "cell_type": "raw",
   "id": "07adea47-f12d-48de-af43-bb3c8f9bd3ef",
   "metadata": {},
   "source": [
    ".loc[] (Label-based Indexing):\n",
    "\n",
    "Uses labels or index names to access data.\n",
    "Includes the end label when slicing.\n",
    "Allows you to specify both row and column labels.\n",
    "Example: df.loc['row_label', 'column_label']"
   ]
  },
  {
   "cell_type": "raw",
   "id": "0ee4714d-bce8-4a52-8ff2-2844d9cd12af",
   "metadata": {},
   "source": [
    ".iloc[] (Integer-based Indexing):\n",
    "\n",
    "Uses integer positions to access data (0-based).\n",
    "Excludes the end index when slicing (similar to Python indexing).\n",
    "Allows you to specify both row and column integer positions.\n",
    "Example: df.iloc[1, 2]"
   ]
  },
  {
   "cell_type": "markdown",
   "id": "f98d752b-dd09-4855-a5e8-cdd440b0e476",
   "metadata": {},
   "source": [
    "<span style=color:green>Q3. Reindex the given dataframe using a variable, reindex = [3,0,1,2] and store it in the variable, new_df\n",
    "then find the output for both new_df.loc[2] and new_df.iloc[2].</span>"
   ]
  },
  {
   "cell_type": "markdown",
   "id": "1bb362fb-9288-476f-9a9d-6e58de22d164",
   "metadata": {},
   "source": [
    "Did you observe any difference in both the outputs? If so then explain it."
   ]
  },
  {
   "cell_type": "raw",
   "id": "9d63ff85-17d6-4191-bb51-b45eec835054",
   "metadata": {},
   "source": [
    "Consider the below code to answer further questions:\n",
    "import pandas as pd\n",
    "import numpy as np\n",
    "columns = ['column_1', 'column_2', 'column_3', 'column_4', 'column_5', 'column_6']\n",
    "indices = [1,2,3,4,5,6]\n",
    "#Creating a dataframe:\n",
    "df1 = pd.DataFrame(np.random.rand(6,6), columns = columns, index = indices)"
   ]
  },
  {
   "cell_type": "code",
   "execution_count": 5,
   "id": "9d66cf9d-ef51-4ebd-b0f9-bb8c4753a765",
   "metadata": {},
   "outputs": [
    {
     "name": "stdout",
     "output_type": "stream",
     "text": [
      "column_1    0.691468\n",
      "column_2    0.355898\n",
      "column_3    0.818816\n",
      "column_4    0.288778\n",
      "column_5    0.502965\n",
      "column_6    0.364331\n",
      "Name: 2, dtype: float64 column_1    0.646009\n",
      "column_2    0.215908\n",
      "column_3    0.191799\n",
      "column_4    0.256301\n",
      "column_5    0.745018\n",
      "column_6    0.138319\n",
      "Name: 1, dtype: float64\n"
     ]
    }
   ],
   "source": [
    "import pandas as pd\n",
    "import numpy as np\n",
    "\n",
    "columns = ['column_1','column_2','column_3','column_4','column_5','column_6']\n",
    "index =[1,2,3,4,5,6]\n",
    "\n",
    "df1 = pd.DataFrame(np.random.rand(6,6), columns=columns, index =index)\n",
    "\n",
    "reindex=[3,0,1,2]\n",
    "new_df=df1.reindex(index=reindex)\n",
    "\n",
    "loc_result=new_df.loc[2]\n",
    "iloc_result=new_df.iloc[2]\n",
    "\n",
    "print(loc_result,iloc_result)"
   ]
  },
  {
   "cell_type": "markdown",
   "id": "70236b10-d513-4e4a-9c33-07e36074e266",
   "metadata": {},
   "source": [
    "<span style=color:green>Q4. Write a code to find the following statistical measurements for the above dataframe df1:\n",
    "(i) mean of each and every column present in the dataframe.\n",
    "(ii) standard deviation of column, ‘column_2’</span>"
   ]
  },
  {
   "cell_type": "markdown",
   "id": "9d2e23f7-6cf2-4bc8-a96c-f89ad54b9958",
   "metadata": {},
   "source": [
    "Ans-"
   ]
  },
  {
   "cell_type": "code",
   "execution_count": 6,
   "id": "8245bb0f-e850-420c-b72e-8b65cbc482c2",
   "metadata": {},
   "outputs": [
    {
     "name": "stdout",
     "output_type": "stream",
     "text": [
      "mean od column:\n",
      "column_1    0.703531\n",
      "column_2    0.436455\n",
      "column_3    0.473368\n",
      "column_4    0.575966\n",
      "column_5    0.421289\n",
      "column_6    0.314712\n",
      "dtype: float64\n"
     ]
    }
   ],
   "source": [
    "\n",
    "import numpy as np\n",
    "\n",
    "mean_of_every_column=df1.mean()\n",
    "print(\"mean od column:\")\n",
    "print(mean_of_every_column)"
   ]
  },
  {
   "cell_type": "code",
   "execution_count": 7,
   "id": "aa3196b5-2ddb-44bc-bb95-f258bce07c22",
   "metadata": {},
   "outputs": [
    {
     "name": "stdout",
     "output_type": "stream",
     "text": [
      "standard deviation of column_2:\n",
      "0.2874151001514759\n"
     ]
    }
   ],
   "source": [
    "standard_deviation=df1[\"column_2\"].std()\n",
    "print(\"standard deviation of column_2:\")\n",
    "print(standard_deviation)"
   ]
  },
  {
   "cell_type": "markdown",
   "id": "346de0e5-2ce4-46a8-8ecb-3c95cc670c7d",
   "metadata": {},
   "source": [
    "<span style=color:green>Q5. Replace the data present in the second row of column, ‘column_2’ by a string variable then find the mean of column, column_2.\n",
    "If you are getting errors in executing it then explain why.\n",
    "[Hint: To replace the data use df1.loc[] and equate this to string data of your choice.]</span>"
   ]
  },
  {
   "cell_type": "markdown",
   "id": "a39d0f06-caea-4491-94d3-470146fca7f0",
   "metadata": {},
   "source": [
    "Ans-"
   ]
  },
  {
   "cell_type": "code",
   "execution_count": 8,
   "id": "32e70ada-f735-4fa0-a6f4-8158c6746d9d",
   "metadata": {},
   "outputs": [
    {
     "name": "stdout",
     "output_type": "stream",
     "text": [
      "'column_2' after replacement: 0.7045565504209097\n"
     ]
    }
   ],
   "source": [
    "import pandas as pd\n",
    "import numpy as np\n",
    "\n",
    "columns=[\"column_1\", \"column_2\", \"column_3\", \"column_4\", \"column_5\", \"column_6\"]\n",
    "indexes=[1,2,3,4,5,6]\n",
    "\n",
    "# creating dataframe\n",
    "\n",
    "df1=pd.DataFrame(np.random.rand(6,6), columns=columns, index=indexes)\n",
    "\n",
    "# Replace data in the second row of 'column_2' with a string variable\n",
    "\n",
    "string_data=\"osama\"\n",
    "df1.loc[2,\"column_2\"]=string_data\n",
    "# convert column to numeric\n",
    "df1['column_2'] = pd.to_numeric(df1['column_2'], errors='coerce')\n",
    "# the mean of column_2mean_column_2=df1[\"column_2\"].mean()\n",
    "mean_column_2 = df1['column_2'].mean()\n",
    "print(\"'column_2' after replacement:\", mean_column_2)"
   ]
  },
  {
   "cell_type": "markdown",
   "id": "7c68d2ed-c345-44f5-810f-7352400c64a2",
   "metadata": {},
   "source": [
    "<span style=color:green>Q6. What do you understand about the windows function in pandas and list the types of windows\n",
    "functions?</span>"
   ]
  },
  {
   "cell_type": "markdown",
   "id": "64a85260-6670-44c7-8cc7-89d8eb4b072e",
   "metadata": {},
   "source": [
    "Ans-"
   ]
  },
  {
   "cell_type": "markdown",
   "id": "6c212738-7e59-49d8-a899-c47ea1865245",
   "metadata": {},
   "source": [
    "Window functions operate on a set of data points called a \"window,\" which can move or \"roll\" over the data. The window is defined by its size, and it can include a fixed number of data points or be based on a time frequency."
   ]
  },
  {
   "cell_type": "raw",
   "id": "3b573777-42a2-4ed3-b2b4-8234c0c6527a",
   "metadata": {},
   "source": [
    "Rolling Functions:\n",
    "\n",
    "rolling(): Provides rolling view over the data.\n",
    "rolling.mean(), rolling.sum(), rolling.std(): Calculate the mean, sum, standard deviation, etc., over the rolling window."
   ]
  },
  {
   "cell_type": "raw",
   "id": "666e26e8-e65b-4107-bcbc-51adf28e22a3",
   "metadata": {},
   "source": [
    "Expanding Functions:\n",
    "\n",
    "expanding(): Expanding window functions include all data points from the start up to the current point.\n",
    "expanding.mean(), expanding.sum(): Calculate the mean, sum, etc., over the expanding window."
   ]
  },
  {
   "cell_type": "raw",
   "id": "7638333f-493b-495f-a9f4-723bc1b128fd",
   "metadata": {},
   "source": [
    "Exponential Moving Average (EMA):\n",
    "\n",
    "ewm(): Exponential moving average assigns exponentially decreasing weights to older observations.\n",
    "ewm.mean(), ewm.var(): Calculate the exponential moving average, variance, etc."
   ]
  },
  {
   "cell_type": "raw",
   "id": "22041d96-09a2-481b-8864-793f331e1a73",
   "metadata": {},
   "source": [
    "Window Functions with GroupBy:\n",
    "\n",
    "You can use window functions in combination with groupby for calculations within groups.\n"
   ]
  },
  {
   "cell_type": "markdown",
   "id": "725cf25d-2b83-491e-b9cd-bfe59a9c22e4",
   "metadata": {},
   "source": [
    "<span style=color:green>Q7. Write a code to print only the current month and year at the time of answering this question.\n",
    "[Hint: Use pandas.datetime function]</span>"
   ]
  },
  {
   "cell_type": "markdown",
   "id": "538cac25-c903-48b4-ae4f-1f51ebe4499c",
   "metadata": {},
   "source": [
    "Ans-"
   ]
  },
  {
   "cell_type": "code",
   "execution_count": 9,
   "id": "788e39c2-a17f-4a74-be5c-4d94289b5fb4",
   "metadata": {},
   "outputs": [
    {
     "name": "stdout",
     "output_type": "stream",
     "text": [
      "current month:11\n",
      "current year:2023\n"
     ]
    }
   ],
   "source": [
    "import pandas as pd\n",
    "from datetime import datetime\n",
    "\n",
    "# get current date and time\n",
    "current_datetime=datetime.now()\n",
    "current_month=pd.to_datetime(current_datetime).month\n",
    "current_year=pd.to_datetime(current_datetime).year\n",
    "print(f\"current month:{current_month}\")\n",
    "print(f\"current year:{current_year}\")"
   ]
  },
  {
   "cell_type": "markdown",
   "id": "520c2fd4-7f45-4111-9811-91f2659a568f",
   "metadata": {},
   "source": [
    "<span style=color:green>Q8. Write a Python program that takes in two dates as input (in the format YYYY-MM-DD) and\n",
    "calculates the difference between them in days, hours, and minutes using Pandas time delta. The\n",
    "program should prompt the user to enter the dates and display the result.</span>"
   ]
  },
  {
   "cell_type": "markdown",
   "id": "64db515b-aebf-4e28-b226-85821271e90e",
   "metadata": {},
   "source": [
    "Ans-"
   ]
  },
  {
   "cell_type": "code",
   "execution_count": 10,
   "id": "c2ce7130-9679-4206-bd9a-840ba518b960",
   "metadata": {},
   "outputs": [
    {
     "name": "stdout",
     "output_type": "stream",
     "text": [
      "enter the first date\n"
     ]
    },
    {
     "name": "stdin",
     "output_type": "stream",
     "text": [
      "enter the date in the fromat YYYY-MM-DD:  2020-02-02\n"
     ]
    },
    {
     "name": "stdout",
     "output_type": "stream",
     "text": [
      "\n",
      "enter the second date\n"
     ]
    },
    {
     "name": "stdin",
     "output_type": "stream",
     "text": [
      "enter the date in the fromat YYYY-MM-DD:  2023-02-03\n"
     ]
    },
    {
     "name": "stdout",
     "output_type": "stream",
     "text": [
      "\n",
      "time difference\n",
      "days:1097 days\n",
      "hours:0 hours\n",
      "minutes:0 minutes\n"
     ]
    }
   ],
   "source": [
    "import pandas as pd\n",
    "def get_data_user_input():\n",
    "    while True:\n",
    "        try:\n",
    "            user_input=input(\"enter the date in the fromat YYYY-MM-DD: \")\n",
    "            date_obj=pd.to_datetime(user_input)\n",
    "            return date_obj\n",
    "        except ValueError:\n",
    "            print(\"invalid format please enter valid date format in the YYYY-MM-DD\")\n",
    "\n",
    "print(\"enter the first date\")\n",
    "date1=get_data_user_input()\n",
    "\n",
    "print(\"\\nenter the second date\")\n",
    "date2=get_data_user_input()\n",
    "\n",
    "time_diff=date2 - date1\n",
    "\n",
    "days_diff=time_diff.days\n",
    "hours_diff , reminder=divmod(time_diff.seconds , 3600)\n",
    "minutes_diff=reminder//60\n",
    "\n",
    "print(\"\\ntime difference\")\n",
    "print(f\"days:{days_diff} days\")\n",
    "print(f\"hours:{hours_diff} hours\")\n",
    "print(f\"minutes:{minutes_diff} minutes\")\n",
    "\n",
    "    \n",
    "\n",
    "\n"
   ]
  },
  {
   "cell_type": "markdown",
   "id": "c60f72fe-f5c2-4740-8596-75d7f0233214",
   "metadata": {},
   "source": [
    "<span style=color:green>Q9. Write a Python program that reads a CSV file containing categorical data and converts a specified\n",
    "column to a categorical data type. The program should prompt the user to enter the file path, column\n",
    "name, and category order, and then display the sorted data.</span>"
   ]
  },
  {
   "cell_type": "markdown",
   "id": "e7de3239-21ba-4d3b-bfc7-1635b1ae92fd",
   "metadata": {},
   "source": [
    "Ans-"
   ]
  },
  {
   "cell_type": "code",
   "execution_count": 1,
   "id": "c9f69ad2-0f87-4467-88d4-e68d363d18c2",
   "metadata": {},
   "outputs": [
    {
     "name": "stdin",
     "output_type": "stream",
     "text": [
      "Enter the CSV file path:  100-contacts.csv\n",
      "Enter the column name to convert to categorical:  first_name\n",
      "Enter the category order (comma-separated):  first_name - last_name\n"
     ]
    },
    {
     "name": "stdout",
     "output_type": "stream",
     "text": [
      "\n",
      "Sorted Data:\n",
      "   first_name  last_name                    company_name  \\\n",
      "0         NaN       Butt               Benton, John B Jr   \n",
      "1         NaN    Darakjy           Chanay, Jeffrey A Esq   \n",
      "2         NaN     Venere             Chemel, James L Cpa   \n",
      "3         NaN   Paprocki          Feltz Printing Service   \n",
      "4         NaN     Foller             Printing Dimensions   \n",
      "..        ...        ...                             ...   \n",
      "94        NaN  Benimadho                 Tree Musketeers   \n",
      "95        NaN  Vanheusen    Springfield Div Oh Edison Co   \n",
      "96        NaN    Hochard         Logan Memorial Hospital   \n",
      "97        NaN       Fern            Kelly, Charles G Esq   \n",
      "98        NaN    Centini  Industrial Paper Shredders Inc   \n",
      "\n",
      "                  address          city       county state    zip  \\\n",
      "0      6649 N Blue Gum St   New Orleans      Orleans    LA  70116   \n",
      "1     4 B Blue Ridge Blvd      Brighton   Livingston    MI  48116   \n",
      "2    8 W Cerritos Ave #54    Bridgeport   Gloucester    NJ   8014   \n",
      "3             639 Main St     Anchorage    Anchorage    AK  99501   \n",
      "4            34 Center St      Hamilton       Butler    OH  45011   \n",
      "..                    ...           ...          ...   ...    ...   \n",
      "94  99385 Charity St #840      San Jose  Santa Clara    CA  95110   \n",
      "95      68556 Central Hwy   San Leandro      Alameda    CA  94577   \n",
      "96       55 Riverside Ave  Indianapolis       Marion    IN  46202   \n",
      "97    7140 University Ave  Rock Springs   Sweetwater    WY  82901   \n",
      "98       64 5th Ave #1153       Mc Lean      Fairfax    VA  22102   \n",
      "\n",
      "          phone1         phone                          email  \n",
      "0   504-621-8927  504-845-1427                jbutt@gmail.com  \n",
      "1   810-292-9388  810-374-9840  josephine_darakjy@darakjy.org  \n",
      "2   856-636-8749  856-264-4130                 art@venere.org  \n",
      "3   907-385-4412  907-921-2010          lpaprocki@hotmail.com  \n",
      "4   513-570-1893  513-549-4561         donette.foller@cox.net  \n",
      "..           ...           ...                            ...  \n",
      "94  408-703-8505  408-440-8447       elvera.benimadho@cox.net  \n",
      "95  510-503-7169  510-452-4835                  carma@cox.net  \n",
      "96  317-722-5066  317-472-2412      malinda.hochard@yahoo.com  \n",
      "97  307-704-8713  307-279-3793       natalie.fern@hotmail.com  \n",
      "98  703-235-3937  703-475-7568              lisha@centini.org  \n",
      "\n",
      "[99 rows x 11 columns]\n"
     ]
    }
   ],
   "source": [
    "import pandas as pd\n",
    "\n",
    "# Function to get user input for file path, column name, and category order\n",
    "def get_user_input():\n",
    "    file_path = input(\"Enter the CSV file path: \")\n",
    "    column_name = input(\"Enter the column name to convert to categorical: \")\n",
    "    category_order = input(\"Enter the category order (comma-separated): \").split(',')\n",
    "    return file_path, column_name, category_order\n",
    "\n",
    "# Read CSV file\n",
    "file_path, column_name, category_order = get_user_input()\n",
    "df = pd.read_csv(file_path)\n",
    "\n",
    "# Convert specified column to categorical\n",
    "df[column_name] = pd.Categorical(df[column_name], categories=category_order, ordered=True)\n",
    "\n",
    "# Display sorted data\n",
    "sorted_df = df.sort_values(by=[column_name])\n",
    "print(\"\\nSorted Data:\")\n",
    "print(sorted_df)\n"
   ]
  },
  {
   "cell_type": "markdown",
   "id": "b1fdeb5b-886c-4631-80f2-e7d693730175",
   "metadata": {},
   "source": [
    "<span style=color:green>Q10. Write a Python program that reads a CSV file containing sales data for different products and\n",
    "visualizes the data using a stacked bar chart to show the sales of each product category over time. The\n",
    "program should prompt the user to enter the file path and display the chart.</span>"
   ]
  },
  {
   "cell_type": "markdown",
   "id": "9decfb22-ccb9-4346-b05c-26ff45bbf08a",
   "metadata": {},
   "source": [
    "Ans-"
   ]
  },
  {
   "cell_type": "code",
   "execution_count": null,
   "id": "79f0a5cd-12bf-4ef1-b29c-5362c172461d",
   "metadata": {},
   "outputs": [],
   "source": [
    "import pandas as pd\n",
    "import matplotlib.pyplot as plt\n",
    "\n",
    "# Function to get user input for the file path\n",
    "def get_user_input():\n",
    "    file_path = input(\"Enter the CSV file path: \")\n",
    "    return file_path\n",
    "\n",
    "# Read CSV file\n",
    "file_path = get_user_input()\n",
    "df = pd.read_csv(file_path)\n",
    "\n",
    "# Assuming the CSV file has columns: 'Date', 'Category', and 'Sales'\n",
    "\n",
    "# Convert 'Date' column to datetime type\n",
    "df['Date'] = pd.to_datetime(df['Date'])\n",
    "\n",
    "# Create a stacked bar chart\n",
    "pivot_table = df.pivot_table(values='Sales', index='Date', columns='Category', aggfunc='sum', fill_value=0)\n",
    "\n",
    "# Plotting the stacked bar chart\n",
    "pivot_table.plot(kind='bar', stacked=True, figsize=(10, 6))\n",
    "plt.title('Stacked Bar Chart of Sales by Product Category Over Time')\n",
    "plt.xlabel('Date')\n",
    "plt.ylabel('Total Sales')\n",
    "plt.legend(title='Product Category', bbox_to_anchor=(1.05, 1), loc='upper left')\n",
    "plt.show()\n"
   ]
  },
  {
   "cell_type": "raw",
   "id": "f2f2dc41-775b-4912-a33c-afeab85f91c8",
   "metadata": {},
   "source": [
    "Q11. You are given a CSV file containing student data that includes the student ID and their test score. Write\n",
    "a Python program that reads the CSV file, calculates the mean, median, and mode of the test scores, and\n",
    "displays the results in a table.\n",
    "The program should do the followingM\n",
    "I Prompt the user to enter the file path of the CSV file containing the student dataR\n",
    "I Read the CSV file into a Pandas DataFrameR\n",
    "I Calculate the mean, median, and mode of the test scores using Pandas toolsR\n",
    "I Display the mean, median, and mode in a table.\n",
    "Assume the CSV file contains the following columnsM\n",
    "I Student ID: The ID of the studentR\n",
    "I Test Score: The score of the student's test.\n",
    "Example usage of the program:\n",
    "Enter the file path of the CSV file containing the student data: student_data.csv\n",
    "+-----------+--------+\n",
    "| Statistic | Value |\n",
    "+-----------+--------+\n",
    "| Mean | 79.6 |\n",
    "| Median | 82 |\n",
    "| Mode | 85, 90 |\n",
    "+-----------+--------+\n",
    "Assume that the CSV file student_data.csv contains the following data:\n",
    "Student ID,Test Score\n",
    "1,85\n",
    "2,90\n",
    "3,80\n",
    "4,75\n",
    "5,85\n",
    "6,82\n",
    "7,78\n",
    "8,85\n",
    "9,90\n",
    "10,85\n",
    "The program should calculate the mean, median, and mode of the test scores and display the results\n",
    "in a table."
   ]
  },
  {
   "cell_type": "markdown",
   "id": "44aa8132-1eae-44f0-970d-51339485e695",
   "metadata": {},
   "source": [
    "Ans-"
   ]
  },
  {
   "cell_type": "code",
   "execution_count": null,
   "id": "fd20c9da-ed39-47d4-ad87-1a28b72ec021",
   "metadata": {},
   "outputs": [],
   "source": [
    "import pandas as pd\n",
    "\n",
    "# Function to get user input for the file path\n",
    "def get_user_input():\n",
    "    file_path = input(\"Enter the file path of the CSV file containing the student data: \")\n",
    "    return file_path\n",
    "\n",
    "# Read CSV file\n",
    "file_path = get_user_input()\n",
    "df = pd.read_csv(file_path)\n",
    "\n",
    "# Calculate mean, median, and mode\n",
    "mean_score = df['Test Score'].mean()\n",
    "median_score = df['Test Score'].median()\n",
    "mode_scores = df['Test Score'].mode()\n",
    "\n",
    "# Display the results in a table\n",
    "results_table = pd.DataFrame({\n",
    "    'Statistic': ['Mean', 'Median', 'Mode'],\n",
    "    'Value': [mean_score, median_score, ', '.join(map(str, mode_scores))]\n",
    "})\n",
    "\n",
    "print(\"\\n\" + results_table.to_markdown(index=False))\n"
   ]
  },
  {
   "cell_type": "code",
   "execution_count": null,
   "id": "e78e56ee-9e9f-4d05-95ef-7df04ba6e6d0",
   "metadata": {},
   "outputs": [],
   "source": []
  }
 ],
 "metadata": {
  "kernelspec": {
   "display_name": "Python 3 (ipykernel)",
   "language": "python",
   "name": "python3"
  },
  "language_info": {
   "codemirror_mode": {
    "name": "ipython",
    "version": 3
   },
   "file_extension": ".py",
   "mimetype": "text/x-python",
   "name": "python",
   "nbconvert_exporter": "python",
   "pygments_lexer": "ipython3",
   "version": "3.10.8"
  }
 },
 "nbformat": 4,
 "nbformat_minor": 5
}
